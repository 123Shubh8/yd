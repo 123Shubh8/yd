{
 "cells": [
  {
   "cell_type": "code",
   "execution_count": 5,
   "metadata": {
    "id": "kf-jS7NUGSag"
   },
   "outputs": [],
   "source": [
    "import tensorflow as tf\n",
    "import tensorflow_hub as hub\n",
    "import tensorflow_datasets as tfds\n",
    "from sklearn.model_selection import train_test_split\n",
    "from sklearn.preprocessing import StandardScaler\n",
    "from mlxtend.plotting import plot_confusion_matrix\n",
    "from sklearn import metrics\n",
    "import pandas as pd\n",
    "import numpy as np\n",
    "import matplotlib.pyplot as plt\n",
    "import seaborn as sns\n",
    "%matplotlib inline\n",
    "from tqdm.notebook import tqdm\n",
    "import warnings\n",
    "warnings.filterwarnings(\"ignore\")"
   ]
  },
  {
   "cell_type": "code",
   "execution_count": 6,
   "metadata": {
    "id": "Skhu-UIsIkcZ",
    "scrolled": true
   },
   "outputs": [
    {
     "name": "stderr",
     "output_type": "stream",
     "text": [
      "WARNING:absl:Variant folder C:\\Users\\Lenovo\\tensorflow_datasets\\imdb_reviews\\plain_text\\1.0.0 has no dataset_info.json\n"
     ]
    },
    {
     "name": "stdout",
     "output_type": "stream",
     "text": [
      "\u001b[1mDownloading and preparing dataset Unknown size (download: Unknown size, generated: Unknown size, total: Unknown size) to C:\\Users\\Lenovo\\tensorflow_datasets\\imdb_reviews\\plain_text\\1.0.0...\u001b[0m\n"
     ]
    },
    {
     "name": "stderr",
     "output_type": "stream",
     "text": [
      "Dl Completed...: 0 url [00:00, ? url/s]\n",
      "Dl Completed...:   0%|                                                                    | 0/1 [00:00<?, ? url/s]\n",
      "Dl Completed...:   0%|                                                                    | 0/1 [00:00<?, ? url/s]\n",
      "Dl Size...:   0%|                                                                        | 0/80 [00:00<?, ? MiB/s]\u001b[A\n",
      "Dl Completed...:   0%|                                                                    | 0/1 [00:04<?, ? url/s]\u001b[A\n",
      "Dl Size...:   1%|▊                                                               | 1/80 [00:04<05:54,  4.48s/ MiB]\u001b[A\n",
      "Dl Completed...:   0%|                                                                    | 0/1 [00:05<?, ? url/s]\u001b[A\n",
      "Dl Completed...:   0%|                                                                    | 0/1 [00:06<?, ? url/s]\u001b[A\n",
      "Dl Size...:   4%|██▍                                                             | 3/80 [00:06<03:30,  2.73s/ MiB]\u001b[A\n",
      "Dl Completed...:   0%|                                                                    | 0/1 [00:07<?, ? url/s]\u001b[A\n",
      "Dl Size...:   5%|███▏                                                            | 4/80 [00:07<02:01,  1.60s/ MiB]\u001b[A\n",
      "Dl Completed...:   0%|                                                                    | 0/1 [00:08<?, ? url/s]\u001b[A\n",
      "Dl Size...:   6%|████                                                            | 5/80 [00:08<01:46,  1.42s/ MiB]\u001b[A\n",
      "Dl Completed...:   0%|                                                                    | 0/1 [00:10<?, ? url/s]\u001b[A\n",
      "Dl Size...:   8%|████▊                                                           | 6/80 [00:10<01:43,  1.39s/ MiB]\u001b[A\n",
      "Dl Completed...:   0%|                                                                    | 0/1 [00:12<?, ? url/s]\u001b[A\n",
      "Dl Size...:   9%|█████▌                                                          | 7/80 [00:12<01:50,  1.52s/ MiB]\u001b[A\n",
      "Dl Completed...:   0%|                                                                    | 0/1 [00:19<?, ? url/s]\u001b[A\n",
      "Dl Size...:  10%|██████▍                                                         | 8/80 [00:19<03:51,  3.22s/ MiB]\u001b[A\n",
      "Dl Completed...:   0%|                                                                    | 0/1 [00:23<?, ? url/s]\u001b[A\n",
      "Dl Size...:  11%|███████▏                                                        | 9/80 [00:23<04:11,  3.54s/ MiB]\u001b[A\n",
      "Dl Completed...:   0%|                                                                    | 0/1 [00:25<?, ? url/s]\u001b[A\n",
      "Dl Size...:  12%|███████▉                                                       | 10/80 [00:25<03:45,  3.22s/ MiB]\u001b[A\n",
      "Dl Completed...:   0%|                                                                    | 0/1 [00:27<?, ? url/s]\u001b[A\n",
      "Dl Size...:  14%|████████▋                                                      | 11/80 [00:27<03:17,  2.86s/ MiB]\u001b[A\n",
      "Dl Completed...:   0%|                                                                    | 0/1 [00:29<?, ? url/s]\u001b[A\n",
      "Dl Size...:  15%|█████████▍                                                     | 12/80 [00:29<02:48,  2.48s/ MiB]\u001b[A\n",
      "Dl Completed...:   0%|                                                                    | 0/1 [00:30<?, ? url/s]\u001b[A\n",
      "Dl Size...:  16%|██████████▏                                                    | 13/80 [00:30<02:24,  2.16s/ MiB]\u001b[A\n",
      "Dl Completed...:   0%|                                                                    | 0/1 [00:32<?, ? url/s]\u001b[A\n",
      "Dl Size...:  18%|███████████                                                    | 14/80 [00:32<02:07,  1.93s/ MiB]\u001b[A\n",
      "Dl Completed...:   0%|                                                                    | 0/1 [00:34<?, ? url/s]\u001b[A\n",
      "Dl Size...:  19%|███████████▊                                                   | 15/80 [00:34<02:11,  2.02s/ MiB]\u001b[A\n",
      "Dl Completed...:   0%|                                                                    | 0/1 [00:36<?, ? url/s]\u001b[A\n",
      "Dl Size...:  20%|████████████▌                                                  | 16/80 [00:36<02:11,  2.05s/ MiB]\u001b[A\n",
      "Dl Completed...:   0%|                                                                    | 0/1 [00:38<?, ? url/s]\u001b[A\n",
      "Dl Size...:  21%|█████████████▍                                                 | 17/80 [00:38<02:08,  2.03s/ MiB]\u001b[A\n",
      "Dl Completed...:   0%|                                                                    | 0/1 [00:40<?, ? url/s]\u001b[A\n",
      "Dl Size...:  22%|██████████████▏                                                | 18/80 [00:40<02:11,  2.11s/ MiB]\u001b[A\n",
      "Dl Completed...:   0%|                                                                    | 0/1 [00:43<?, ? url/s]\u001b[A\n",
      "Dl Size...:  24%|██████████████▉                                                | 19/80 [00:43<02:12,  2.18s/ MiB]\u001b[A\n",
      "Dl Completed...:   0%|                                                                    | 0/1 [00:45<?, ? url/s]\u001b[A\n",
      "Dl Size...:  25%|███████████████▊                                               | 20/80 [00:45<02:09,  2.16s/ MiB]\u001b[A\n",
      "Dl Completed...:   0%|                                                                    | 0/1 [00:47<?, ? url/s]\u001b[A\n",
      "Dl Size...:  26%|████████████████▌                                              | 21/80 [00:47<02:01,  2.06s/ MiB]\u001b[A\n",
      "Dl Completed...:   0%|                                                                    | 0/1 [00:49<?, ? url/s]\u001b[A\n",
      "Dl Size...:  28%|█████████████████▎                                             | 22/80 [00:49<01:57,  2.02s/ MiB]\u001b[A\n",
      "Dl Completed...:   0%|                                                                    | 0/1 [00:50<?, ? url/s]\u001b[A\n",
      "Dl Size...:  29%|██████████████████                                             | 23/80 [00:50<01:47,  1.89s/ MiB]\u001b[A\n",
      "Dl Completed...:   0%|                                                                    | 0/1 [00:52<?, ? url/s]\u001b[A\n",
      "Dl Completed...:   0%|                                                                    | 0/1 [00:53<?, ? url/s]\u001b[A\n",
      "Dl Size...:  31%|███████████████████▋                                           | 25/80 [00:53<01:36,  1.75s/ MiB]\u001b[A\n",
      "Dl Completed...:   0%|                                                                    | 0/1 [00:54<?, ? url/s]\u001b[A\n",
      "Dl Completed...:   0%|                                                                    | 0/1 [00:54<?, ? url/s]\u001b[A\n",
      "Dl Size...:  34%|█████████████████████▎                                         | 27/80 [00:54<01:12,  1.37s/ MiB]\u001b[A\n",
      "Dl Completed...:   0%|                                                                    | 0/1 [00:55<?, ? url/s]\u001b[A\n",
      "Dl Size...:  35%|██████████████████████                                         | 28/80 [00:55<00:59,  1.15s/ MiB]\u001b[A\n",
      "Dl Completed...:   0%|                                                                    | 0/1 [00:56<?, ? url/s]\u001b[A\n",
      "Dl Size...:  36%|██████████████████████▊                                        | 29/80 [00:56<00:57,  1.12s/ MiB]\u001b[A\n",
      "Dl Completed...:   0%|                                                                    | 0/1 [00:58<?, ? url/s]\u001b[A\n",
      "Dl Size...:  38%|███████████████████████▋                                       | 30/80 [00:58<00:59,  1.19s/ MiB]\u001b[A\n",
      "Dl Completed...:   0%|                                                                    | 0/1 [00:59<?, ? url/s]\u001b[A\n",
      "Dl Size...:  39%|████████████████████████▍                                      | 31/80 [00:59<01:01,  1.26s/ MiB]\u001b[A\n",
      "Dl Completed...:   0%|                                                                    | 0/1 [01:00<?, ? url/s]\u001b[A\n",
      "Dl Size...:  40%|█████████████████████████▏                                     | 32/80 [01:00<01:01,  1.27s/ MiB]\u001b[A\n",
      "Dl Completed...:   0%|                                                                    | 0/1 [01:02<?, ? url/s]\u001b[A\n",
      "Dl Size...:  41%|█████████████████████████▉                                     | 33/80 [01:02<01:03,  1.35s/ MiB]\u001b[A\n",
      "Dl Completed...:   0%|                                                                    | 0/1 [01:04<?, ? url/s]\u001b[A\n",
      "Dl Size...:  42%|██████████████████████████▊                                    | 34/80 [01:04<01:07,  1.47s/ MiB]\u001b[A\n",
      "Dl Completed...:   0%|                                                                    | 0/1 [01:05<?, ? url/s]\u001b[A\n",
      "Dl Size...:  44%|███████████████████████████▌                                   | 35/80 [01:05<01:09,  1.54s/ MiB]\u001b[A\n",
      "Dl Completed...:   0%|                                                                    | 0/1 [01:07<?, ? url/s]\u001b[A\n",
      "Dl Size...:  45%|████████████████████████████▎                                  | 36/80 [01:07<01:09,  1.59s/ MiB]\u001b[A\n",
      "Dl Completed...:   0%|                                                                    | 0/1 [01:09<?, ? url/s]\u001b[A\n",
      "Dl Size...:  46%|█████████████████████████████▏                                 | 37/80 [01:09<01:09,  1.62s/ MiB]\u001b[A\n",
      "Dl Completed...:   0%|                                                                    | 0/1 [01:10<?, ? url/s]\u001b[A\n",
      "Dl Size...:  48%|█████████████████████████████▉                                 | 38/80 [01:10<01:07,  1.61s/ MiB]\u001b[A\n",
      "Dl Completed...:   0%|                                                                    | 0/1 [01:12<?, ? url/s]\u001b[A\n",
      "Dl Size...:  49%|██████████████████████████████▋                                | 39/80 [01:12<01:04,  1.59s/ MiB]\u001b[A\n",
      "Dl Completed...:   0%|                                                                    | 0/1 [01:13<?, ? url/s]\u001b[A\n",
      "Dl Size...:  50%|███████████████████████████████▌                               | 40/80 [01:13<01:00,  1.52s/ MiB]\u001b[A\n",
      "Dl Completed...:   0%|                                                                    | 0/1 [01:15<?, ? url/s]\u001b[A\n",
      "Dl Size...:  51%|████████████████████████████████▎                              | 41/80 [01:15<01:03,  1.62s/ MiB]\u001b[A\n",
      "Dl Completed...:   0%|                                                                    | 0/1 [01:18<?, ? url/s]\u001b[A\n",
      "Dl Size...:  52%|█████████████████████████████████                              | 42/80 [01:18<01:11,  1.87s/ MiB]\u001b[A\n",
      "Dl Completed...:   0%|                                                                    | 0/1 [01:20<?, ? url/s]\u001b[A\n",
      "Dl Size...:  54%|█████████████████████████████████▊                             | 43/80 [01:20<01:15,  2.04s/ MiB]\u001b[A\n",
      "Dl Completed...:   0%|                                                                    | 0/1 [01:23<?, ? url/s]\u001b[A\n",
      "Dl Size...:  55%|██████████████████████████████████▋                            | 44/80 [01:23<01:24,  2.35s/ MiB]\u001b[A\n",
      "Dl Completed...:   0%|                                                                    | 0/1 [01:27<?, ? url/s]\u001b[A\n",
      "Dl Size...:  56%|███████████████████████████████████▍                           | 45/80 [01:27<01:34,  2.69s/ MiB]\u001b[A\n",
      "Dl Completed...:   0%|                                                                    | 0/1 [01:30<?, ? url/s]\u001b[A\n",
      "Dl Size...:  57%|████████████████████████████████████▏                          | 46/80 [01:30<01:34,  2.78s/ MiB]\u001b[A\n",
      "Dl Completed...:   0%|                                                                    | 0/1 [01:31<?, ? url/s]\u001b[A\n",
      "Dl Size...:  59%|█████████████████████████████████████                          | 47/80 [01:31<01:22,  2.49s/ MiB]\u001b[A\n",
      "Dl Completed...:   0%|                                                                    | 0/1 [01:33<?, ? url/s]\u001b[A\n",
      "Dl Size...:  60%|█████████████████████████████████████▊                         | 48/80 [01:33<01:11,  2.24s/ MiB]\u001b[A\n",
      "Dl Completed...:   0%|                                                                    | 0/1 [01:38<?, ? url/s]\u001b[A\n",
      "Dl Size...:  61%|██████████████████████████████████████▌                        | 49/80 [01:38<01:33,  3.00s/ MiB]\u001b[A\n",
      "Dl Completed...:   0%|                                                                    | 0/1 [01:41<?, ? url/s]\u001b[A\n",
      "Dl Size...:  62%|███████████████████████████████████████▍                       | 50/80 [01:41<01:33,  3.13s/ MiB]\u001b[A\n",
      "Dl Completed...:   0%|                                                                    | 0/1 [01:44<?, ? url/s]\u001b[A\n",
      "Dl Size...:  64%|████████████████████████████████████████▏                      | 51/80 [01:44<01:28,  3.04s/ MiB]\u001b[A\n",
      "Dl Completed...:   0%|                                                                    | 0/1 [01:48<?, ? url/s]\u001b[A\n",
      "Dl Size...:  65%|████████████████████████████████████████▉                      | 52/80 [01:48<01:30,  3.25s/ MiB]\u001b[A\n",
      "Dl Completed...:   0%|                                                                    | 0/1 [01:52<?, ? url/s]\u001b[A\n",
      "Dl Size...:  66%|█████████████████████████████████████████▋                     | 53/80 [01:52<01:35,  3.53s/ MiB]\u001b[A\n",
      "Dl Completed...:   0%|                                                                    | 0/1 [01:56<?, ? url/s]\u001b[A\n",
      "Dl Size...:  68%|██████████████████████████████████████████▌                    | 54/80 [01:56<01:33,  3.61s/ MiB]\u001b[A\n",
      "Dl Completed...:   0%|                                                                    | 0/1 [02:00<?, ? url/s]\u001b[A\n",
      "Dl Size...:  69%|███████████████████████████████████████████▎                   | 55/80 [02:00<01:31,  3.65s/ MiB]\u001b[A\n",
      "Dl Completed...:   0%|                                                                    | 0/1 [02:03<?, ? url/s]\u001b[A\n",
      "Dl Size...:  70%|████████████████████████████████████████████                   | 56/80 [02:03<01:22,  3.45s/ MiB]\u001b[A\n",
      "Dl Completed...:   0%|                                                                    | 0/1 [02:05<?, ? url/s]\u001b[A\n",
      "Dl Size...:  71%|████████████████████████████████████████████▉                  | 57/80 [02:05<01:15,  3.27s/ MiB]\u001b[A\n",
      "Dl Completed...:   0%|                                                                    | 0/1 [02:07<?, ? url/s]\u001b[A\n",
      "Dl Size...:  72%|█████████████████████████████████████████████▋                 | 58/80 [02:07<01:04,  2.92s/ MiB]\u001b[A\n",
      "Dl Completed...:   0%|                                                                    | 0/1 [02:09<?, ? url/s]\u001b[A\n",
      "Dl Size...:  74%|██████████████████████████████████████████████▍                | 59/80 [02:09<00:51,  2.47s/ MiB]\u001b[A\n",
      "Dl Completed...:   0%|                                                                    | 0/1 [02:10<?, ? url/s]\u001b[A\n",
      "Dl Completed...:   0%|                                                                    | 0/1 [02:11<?, ? url/s]\u001b[A\n",
      "Dl Size...:  76%|████████████████████████████████████████████████               | 61/80 [02:11<00:39,  2.06s/ MiB]\u001b[A\n",
      "Dl Completed...:   0%|                                                                    | 0/1 [02:13<?, ? url/s]\u001b[A\n",
      "Dl Size...:  78%|████████████████████████████████████████████████▊              | 62/80 [02:13<00:30,  1.69s/ MiB]\u001b[A\n",
      "Dl Completed...:   0%|                                                                    | 0/1 [02:14<?, ? url/s]\u001b[A\n",
      "Dl Size...:  79%|█████████████████████████████████████████████████▌             | 63/80 [02:14<00:28,  1.70s/ MiB]\u001b[A\n",
      "Dl Completed...:   0%|                                                                    | 0/1 [02:17<?, ? url/s]\u001b[A\n",
      "Dl Size...:  80%|██████████████████████████████████████████████████▍            | 64/80 [02:17<00:30,  1.88s/ MiB]\u001b[A\n",
      "Dl Completed...:   0%|                                                                    | 0/1 [02:20<?, ? url/s]\u001b[A\n",
      "Dl Size...:  81%|███████████████████████████████████████████████████▏           | 65/80 [02:20<00:35,  2.34s/ MiB]\u001b[A\n",
      "Dl Completed...:   0%|                                                                    | 0/1 [02:25<?, ? url/s]\u001b[A\n",
      "Dl Size...:  82%|███████████████████████████████████████████████████▉           | 66/80 [02:25<00:42,  3.01s/ MiB]\u001b[A\n",
      "Dl Completed...:   0%|                                                                    | 0/1 [02:28<?, ? url/s]\u001b[A\n",
      "Dl Size...:  84%|████████████████████████████████████████████████████▊          | 67/80 [02:28<00:38,  2.95s/ MiB]\u001b[A\n",
      "Dl Completed...:   0%|                                                                    | 0/1 [02:34<?, ? url/s]\u001b[A\n",
      "Dl Size...:  85%|█████████████████████████████████████████████████████▌         | 68/80 [02:34<00:45,  3.83s/ MiB]\u001b[A\n",
      "Dl Completed...:   0%|                                                                    | 0/1 [02:40<?, ? url/s]\u001b[A\n",
      "Dl Size...:  86%|██████████████████████████████████████████████████████▎        | 69/80 [02:40<00:50,  4.60s/ MiB]\u001b[A\n",
      "Dl Completed...:   0%|                                                                    | 0/1 [02:45<?, ? url/s]\u001b[A\n",
      "Dl Size...:  88%|███████████████████████████████████████████████████████▏       | 70/80 [02:45<00:47,  4.71s/ MiB]\u001b[A\n",
      "Dl Completed...:   0%|                                                                    | 0/1 [02:49<?, ? url/s]\u001b[A\n",
      "Dl Size...:  89%|███████████████████████████████████████████████████████▉       | 71/80 [02:49<00:38,  4.32s/ MiB]\u001b[A\n",
      "Dl Completed...:   0%|                                                                    | 0/1 [02:52<?, ? url/s]\u001b[A\n",
      "Dl Size...:  90%|████████████████████████████████████████████████████████▋      | 72/80 [02:52<00:33,  4.14s/ MiB]\u001b[A\n",
      "Dl Completed...:   0%|                                                                    | 0/1 [02:55<?, ? url/s]\u001b[A\n",
      "Dl Size...:  91%|█████████████████████████████████████████████████████████▍     | 73/80 [02:55<00:26,  3.80s/ MiB]\u001b[A\n",
      "Dl Completed...:   0%|                                                                    | 0/1 [02:57<?, ? url/s]\u001b[A\n",
      "Dl Size...:  92%|██████████████████████████████████████████████████████████▎    | 74/80 [02:57<00:19,  3.26s/ MiB]\u001b[A\n",
      "Dl Completed...:   0%|                                                                    | 0/1 [02:59<?, ? url/s]\u001b[A\n",
      "Dl Size...:  94%|███████████████████████████████████████████████████████████    | 75/80 [02:59<00:13,  2.70s/ MiB]\u001b[A\n",
      "Dl Completed...:   0%|                                                                    | 0/1 [03:00<?, ? url/s]\u001b[A\n",
      "Dl Size...:  95%|███████████████████████████████████████████████████████████▊   | 76/80 [03:00<00:09,  2.31s/ MiB]\u001b[A\n",
      "Dl Completed...:   0%|                                                                    | 0/1 [03:01<?, ? url/s]\u001b[A\n",
      "Dl Completed...:   0%|                                                                    | 0/1 [03:02<?, ? url/s]\u001b[A\n",
      "Dl Size...:  98%|█████████████████████████████████████████████████████████████▍ | 78/80 [03:02<00:03,  1.95s/ MiB]\u001b[A\n",
      "Dl Completed...:   0%|                                                                    | 0/1 [03:03<?, ? url/s]\u001b[A\n",
      "Dl Completed...:   0%|                                                                    | 0/1 [03:04<?, ? url/s]\u001b[A\n",
      "Dl Completed...: 100%|███████████████████████████████████████████████████████████| 1/1 [03:04<00:00, 184.59s/ url]\u001b[A\n",
      "Dl Size...: 100%|███████████████████████████████████████████████████████████████| 80/80 [03:04<00:00,  2.31s/ MiB]\u001b[A\n",
      "Dl Completed...: 100%|███████████████████████████████████████████████████████████| 1/1 [03:04<00:00, 184.63s/ url]\n",
      "Generating splits...:   0%|                                                            | 0/3 [00:00<?, ? splits/s]\n",
      "Generating train examples...: 0 examples [00:00, ? examples/s]\u001b[A\n",
      "Generating train examples...: 1 examples [00:01,  1.61s/ examples]\u001b[A\n",
      "Generating train examples...: 10236 examples [00:02, 4808.60 examples/s]\u001b[A\n",
      "Generating train examples...: 20588 examples [00:03, 7032.76 examples/s]\u001b[A\n",
      "                                                                        \u001b[A\n",
      "Shuffling C:\\Users\\Lenovo\\tensorflow_datasets\\imdb_reviews\\plain_text\\incomplete.AFMHJZ_1.0.0\\imdb_reviews-train.t\u001b[A\n",
      "Generating splits...:  33%|█████████████████▎                                  | 1/3 [00:06<00:13,  6.76s/ splits]\u001b[A\n",
      "Generating test examples...: 0 examples [00:00, ? examples/s]\u001b[A\n",
      "Generating test examples...: 5242 examples [00:01, 5237.79 examples/s]\u001b[A\n",
      "Generating test examples...: 15612 examples [00:02, 8254.49 examples/s]\u001b[A\n",
      "                                                                       \u001b[A\n",
      "Shuffling C:\\Users\\Lenovo\\tensorflow_datasets\\imdb_reviews\\plain_text\\incomplete.AFMHJZ_1.0.0\\imdb_reviews-test.tf\u001b[A\n",
      "Generating splits...:  67%|██████████████████████████████████▋                 | 2/3 [00:13<00:06,  6.67s/ splits]\u001b[A\n",
      "Generating unsupervised examples...: 0 examples [00:00, ? examples/s]\u001b[A\n",
      "Generating unsupervised examples...: 1 examples [00:03,  3.03s/ examples]\u001b[A\n",
      "Generating unsupervised examples...: 9903 examples [00:04, 3168.74 examples/s]\u001b[A\n",
      "Generating unsupervised examples...: 19768 examples [00:05, 5269.05 examples/s]\u001b[A\n",
      "Generating unsupervised examples...: 29395 examples [00:06, 6616.81 examples/s]\u001b[A\n",
      "Generating unsupervised examples...: 39370 examples [00:07, 7644.87 examples/s]\u001b[A\n",
      "Generating unsupervised examples...: 48891 examples [00:08, 8216.07 examples/s]\u001b[A\n",
      "                                                                               \u001b[A\n",
      "Shuffling C:\\Users\\Lenovo\\tensorflow_datasets\\imdb_reviews\\plain_text\\incomplete.AFMHJZ_1.0.0\\imdb_reviews-unsuper\u001b[A\n",
      "Shuffling C:\\Users\\Lenovo\\tensorflow_datasets\\imdb_reviews\\plain_text\\incomplete.AFMHJZ_1.0.0\\imdb_reviews-unsuper\u001b[A\n",
      "                                                                                                                  \u001b[A"
     ]
    },
    {
     "name": "stdout",
     "output_type": "stream",
     "text": [
      "\u001b[1mDataset imdb_reviews downloaded and prepared to C:\\Users\\Lenovo\\tensorflow_datasets\\imdb_reviews\\plain_text\\1.0.0. Subsequent calls will reuse this data.\u001b[0m\n"
     ]
    }
   ],
   "source": [
    "train_data, validation_data, test_data = tfds.load(\n",
    "    name=\"imdb_reviews\",\n",
    "    split=('train[:60%]', 'train[60%:]', 'test'),\n",
    "    as_supervised=True)"
   ]
  },
  {
   "cell_type": "code",
   "execution_count": 7,
   "metadata": {
    "id": "dfx3Jf3PJQq4"
   },
   "outputs": [],
   "source": [
    "train_examples_batch, train_labels_batch = next(iter(train_data.batch(10)))"
   ]
  },
  {
   "cell_type": "code",
   "execution_count": 8,
   "metadata": {
    "colab": {
     "base_uri": "https://localhost:8080/"
    },
    "id": "vmnrOvWSJTBS",
    "outputId": "97dc9454-315f-43f2-c329-b699996f9ed4"
   },
   "outputs": [
    {
     "data": {
      "text/plain": [
       "<tf.Tensor: shape=(10,), dtype=int64, numpy=array([0, 0, 0, 1, 1, 1, 0, 0, 0, 0])>"
      ]
     },
     "execution_count": 8,
     "metadata": {},
     "output_type": "execute_result"
    }
   ],
   "source": [
    "train_labels_batch"
   ]
  },
  {
   "cell_type": "code",
   "execution_count": 15,
   "metadata": {
    "id": "5JQVthVlJVhe",
    "scrolled": true
   },
   "outputs": [],
   "source": [
    "# embedding = \"https://tfhub.dev/google/nnlm-en-dim128-with-normalization/2\"\n",
    "# hub_layer = hub.KerasLayer(embedding, input_shape=[],\n",
    "#                            dtype=tf.string, trainable=True)"
   ]
  },
  {
   "cell_type": "code",
   "execution_count": 21,
   "metadata": {
    "id": "VwgOPzrmJcaW"
   },
   "outputs": [
    {
     "name": "stdout",
     "output_type": "stream",
     "text": [
      "WARNING:tensorflow:From C:\\Users\\Lenovo\\AppData\\Local\\Programs\\Python\\Python312\\Lib\\site-packages\\keras\\src\\backend\\tensorflow\\core.py:219: The name tf.placeholder is deprecated. Please use tf.compat.v1.placeholder instead.\n",
      "\n"
     ]
    },
    {
     "name": "stderr",
     "output_type": "stream",
     "text": [
      "WARNING:tensorflow:From C:\\Users\\Lenovo\\AppData\\Local\\Programs\\Python\\Python312\\Lib\\site-packages\\keras\\src\\backend\\tensorflow\\core.py:219: The name tf.placeholder is deprecated. Please use tf.compat.v1.placeholder instead.\n",
      "\n"
     ]
    },
    {
     "data": {
      "text/html": [
       "<pre style=\"white-space:pre;overflow-x:auto;line-height:normal;font-family:Menlo,'DejaVu Sans Mono',consolas,'Courier New',monospace\"><span style=\"font-weight: bold\">Model: \"functional\"</span>\n",
       "</pre>\n"
      ],
      "text/plain": [
       "\u001b[1mModel: \"functional\"\u001b[0m\n"
      ]
     },
     "metadata": {},
     "output_type": "display_data"
    },
    {
     "data": {
      "text/html": [
       "<pre style=\"white-space:pre;overflow-x:auto;line-height:normal;font-family:Menlo,'DejaVu Sans Mono',consolas,'Courier New',monospace\">┏━━━━━━━━━━━━━━━━━━━━━━━━━━━━━━━━━━━━━━┳━━━━━━━━━━━━━━━━━━━━━━━━━━━━━┳━━━━━━━━━━━━━━━━━┓\n",
       "┃<span style=\"font-weight: bold\"> Layer (type)                         </span>┃<span style=\"font-weight: bold\"> Output Shape                </span>┃<span style=\"font-weight: bold\">         Param # </span>┃\n",
       "┡━━━━━━━━━━━━━━━━━━━━━━━━━━━━━━━━━━━━━━╇━━━━━━━━━━━━━━━━━━━━━━━━━━━━━╇━━━━━━━━━━━━━━━━━┩\n",
       "│ input_text (<span style=\"color: #0087ff; text-decoration-color: #0087ff\">InputLayer</span>)              │ (<span style=\"color: #00d7ff; text-decoration-color: #00d7ff\">None</span>)                      │               <span style=\"color: #00af00; text-decoration-color: #00af00\">0</span> │\n",
       "├──────────────────────────────────────┼─────────────────────────────┼─────────────────┤\n",
       "│ hub_layer (<span style=\"color: #0087ff; text-decoration-color: #0087ff\">HubLayer</span>)                 │ (<span style=\"color: #00d7ff; text-decoration-color: #00d7ff\">None</span>, <span style=\"color: #00af00; text-decoration-color: #00af00\">128</span>)                 │               <span style=\"color: #00af00; text-decoration-color: #00af00\">0</span> │\n",
       "├──────────────────────────────────────┼─────────────────────────────┼─────────────────┤\n",
       "│ dense_4 (<span style=\"color: #0087ff; text-decoration-color: #0087ff\">Dense</span>)                      │ (<span style=\"color: #00d7ff; text-decoration-color: #00d7ff\">None</span>, <span style=\"color: #00af00; text-decoration-color: #00af00\">16</span>)                  │           <span style=\"color: #00af00; text-decoration-color: #00af00\">2,064</span> │\n",
       "├──────────────────────────────────────┼─────────────────────────────┼─────────────────┤\n",
       "│ dense_5 (<span style=\"color: #0087ff; text-decoration-color: #0087ff\">Dense</span>)                      │ (<span style=\"color: #00d7ff; text-decoration-color: #00d7ff\">None</span>, <span style=\"color: #00af00; text-decoration-color: #00af00\">1</span>)                   │              <span style=\"color: #00af00; text-decoration-color: #00af00\">17</span> │\n",
       "└──────────────────────────────────────┴─────────────────────────────┴─────────────────┘\n",
       "</pre>\n"
      ],
      "text/plain": [
       "┏━━━━━━━━━━━━━━━━━━━━━━━━━━━━━━━━━━━━━━┳━━━━━━━━━━━━━━━━━━━━━━━━━━━━━┳━━━━━━━━━━━━━━━━━┓\n",
       "┃\u001b[1m \u001b[0m\u001b[1mLayer (type)                        \u001b[0m\u001b[1m \u001b[0m┃\u001b[1m \u001b[0m\u001b[1mOutput Shape               \u001b[0m\u001b[1m \u001b[0m┃\u001b[1m \u001b[0m\u001b[1m        Param #\u001b[0m\u001b[1m \u001b[0m┃\n",
       "┡━━━━━━━━━━━━━━━━━━━━━━━━━━━━━━━━━━━━━━╇━━━━━━━━━━━━━━━━━━━━━━━━━━━━━╇━━━━━━━━━━━━━━━━━┩\n",
       "│ input_text (\u001b[38;5;33mInputLayer\u001b[0m)              │ (\u001b[38;5;45mNone\u001b[0m)                      │               \u001b[38;5;34m0\u001b[0m │\n",
       "├──────────────────────────────────────┼─────────────────────────────┼─────────────────┤\n",
       "│ hub_layer (\u001b[38;5;33mHubLayer\u001b[0m)                 │ (\u001b[38;5;45mNone\u001b[0m, \u001b[38;5;34m128\u001b[0m)                 │               \u001b[38;5;34m0\u001b[0m │\n",
       "├──────────────────────────────────────┼─────────────────────────────┼─────────────────┤\n",
       "│ dense_4 (\u001b[38;5;33mDense\u001b[0m)                      │ (\u001b[38;5;45mNone\u001b[0m, \u001b[38;5;34m16\u001b[0m)                  │           \u001b[38;5;34m2,064\u001b[0m │\n",
       "├──────────────────────────────────────┼─────────────────────────────┼─────────────────┤\n",
       "│ dense_5 (\u001b[38;5;33mDense\u001b[0m)                      │ (\u001b[38;5;45mNone\u001b[0m, \u001b[38;5;34m1\u001b[0m)                   │              \u001b[38;5;34m17\u001b[0m │\n",
       "└──────────────────────────────────────┴─────────────────────────────┴─────────────────┘\n"
      ]
     },
     "metadata": {},
     "output_type": "display_data"
    },
    {
     "data": {
      "text/html": [
       "<pre style=\"white-space:pre;overflow-x:auto;line-height:normal;font-family:Menlo,'DejaVu Sans Mono',consolas,'Courier New',monospace\"><span style=\"font-weight: bold\"> Total params: </span><span style=\"color: #00af00; text-decoration-color: #00af00\">2,081</span> (8.13 KB)\n",
       "</pre>\n"
      ],
      "text/plain": [
       "\u001b[1m Total params: \u001b[0m\u001b[38;5;34m2,081\u001b[0m (8.13 KB)\n"
      ]
     },
     "metadata": {},
     "output_type": "display_data"
    },
    {
     "data": {
      "text/html": [
       "<pre style=\"white-space:pre;overflow-x:auto;line-height:normal;font-family:Menlo,'DejaVu Sans Mono',consolas,'Courier New',monospace\"><span style=\"font-weight: bold\"> Trainable params: </span><span style=\"color: #00af00; text-decoration-color: #00af00\">2,081</span> (8.13 KB)\n",
       "</pre>\n"
      ],
      "text/plain": [
       "\u001b[1m Trainable params: \u001b[0m\u001b[38;5;34m2,081\u001b[0m (8.13 KB)\n"
      ]
     },
     "metadata": {},
     "output_type": "display_data"
    },
    {
     "data": {
      "text/html": [
       "<pre style=\"white-space:pre;overflow-x:auto;line-height:normal;font-family:Menlo,'DejaVu Sans Mono',consolas,'Courier New',monospace\"><span style=\"font-weight: bold\"> Non-trainable params: </span><span style=\"color: #00af00; text-decoration-color: #00af00\">0</span> (0.00 B)\n",
       "</pre>\n"
      ],
      "text/plain": [
       "\u001b[1m Non-trainable params: \u001b[0m\u001b[38;5;34m0\u001b[0m (0.00 B)\n"
      ]
     },
     "metadata": {},
     "output_type": "display_data"
    },
    {
     "name": "stdout",
     "output_type": "stream",
     "text": [
      "Epoch 1/10\n",
      "\u001b[1m30/30\u001b[0m \u001b[32m━━━━━━━━━━━━━━━━━━━━\u001b[0m\u001b[37m\u001b[0m \u001b[1m3s\u001b[0m 60ms/step - accuracy: 0.5148 - loss: 0.7448 - val_accuracy: 0.5987 - val_loss: 0.6618\n",
      "Epoch 2/10\n",
      "\u001b[1m30/30\u001b[0m \u001b[32m━━━━━━━━━━━━━━━━━━━━\u001b[0m\u001b[37m\u001b[0m \u001b[1m1s\u001b[0m 44ms/step - accuracy: 0.6274 - loss: 0.6502 - val_accuracy: 0.7035 - val_loss: 0.5988\n",
      "Epoch 3/10\n",
      "\u001b[1m30/30\u001b[0m \u001b[32m━━━━━━━━━━━━━━━━━━━━\u001b[0m\u001b[37m\u001b[0m \u001b[1m1s\u001b[0m 44ms/step - accuracy: 0.7154 - loss: 0.5850 - val_accuracy: 0.7497 - val_loss: 0.5455\n",
      "Epoch 4/10\n",
      "\u001b[1m30/30\u001b[0m \u001b[32m━━━━━━━━━━━━━━━━━━━━\u001b[0m\u001b[37m\u001b[0m \u001b[1m1s\u001b[0m 45ms/step - accuracy: 0.7537 - loss: 0.5362 - val_accuracy: 0.7714 - val_loss: 0.5098\n",
      "Epoch 5/10\n",
      "\u001b[1m30/30\u001b[0m \u001b[32m━━━━━━━━━━━━━━━━━━━━\u001b[0m\u001b[37m\u001b[0m \u001b[1m1s\u001b[0m 44ms/step - accuracy: 0.7737 - loss: 0.5032 - val_accuracy: 0.7845 - val_loss: 0.4851\n",
      "Epoch 6/10\n",
      "\u001b[1m30/30\u001b[0m \u001b[32m━━━━━━━━━━━━━━━━━━━━\u001b[0m\u001b[37m\u001b[0m \u001b[1m1s\u001b[0m 44ms/step - accuracy: 0.7870 - loss: 0.4802 - val_accuracy: 0.7913 - val_loss: 0.4674\n",
      "Epoch 7/10\n",
      "\u001b[1m30/30\u001b[0m \u001b[32m━━━━━━━━━━━━━━━━━━━━\u001b[0m\u001b[37m\u001b[0m \u001b[1m1s\u001b[0m 43ms/step - accuracy: 0.7962 - loss: 0.4635 - val_accuracy: 0.7980 - val_loss: 0.4542\n",
      "Epoch 8/10\n",
      "\u001b[1m30/30\u001b[0m \u001b[32m━━━━━━━━━━━━━━━━━━━━\u001b[0m\u001b[37m\u001b[0m \u001b[1m1s\u001b[0m 45ms/step - accuracy: 0.7999 - loss: 0.4510 - val_accuracy: 0.8030 - val_loss: 0.4442\n",
      "Epoch 9/10\n",
      "\u001b[1m30/30\u001b[0m \u001b[32m━━━━━━━━━━━━━━━━━━━━\u001b[0m\u001b[37m\u001b[0m \u001b[1m1s\u001b[0m 45ms/step - accuracy: 0.8045 - loss: 0.4414 - val_accuracy: 0.8072 - val_loss: 0.4361\n",
      "Epoch 10/10\n",
      "\u001b[1m30/30\u001b[0m \u001b[32m━━━━━━━━━━━━━━━━━━━━\u001b[0m\u001b[37m\u001b[0m \u001b[1m1s\u001b[0m 46ms/step - accuracy: 0.8090 - loss: 0.4334 - val_accuracy: 0.8108 - val_loss: 0.4293\n",
      "\u001b[1m49/49\u001b[0m \u001b[32m━━━━━━━━━━━━━━━━━━━━\u001b[0m\u001b[37m\u001b[0m \u001b[1m1s\u001b[0m 27ms/step - accuracy: 0.8045 - loss: 0.4368\n",
      "Test Loss: 0.43624675273895264\n",
      "Test Accuracy: 0.8034800291061401\n"
     ]
    }
   ],
   "source": [
    "import tensorflow as tf\n",
    "import tensorflow_hub as hub\n",
    "from tensorflow.keras.layers import Input, Dense\n",
    "from tensorflow.keras.models import Model\n",
    "\n",
    "# Load the embedding model from TensorFlow Hub\n",
    "embedding_model = hub.load(\"https://tfhub.dev/google/nnlm-en-dim128-with-normalization/2\")\n",
    "\n",
    "# Create a custom layer to use the embedding model\n",
    "class HubLayer(tf.keras.layers.Layer):\n",
    "    def __init__(self, hub_model):\n",
    "        super(HubLayer, self).__init__()\n",
    "        self.hub_model = hub_model\n",
    "\n",
    "    def call(self, inputs):\n",
    "        return self.hub_model(inputs)\n",
    "\n",
    "# Define the Input layer\n",
    "input_text = Input(shape=(), dtype=tf.string, name=\"input_text\")\n",
    "\n",
    "# Pass input through the custom HubLayer\n",
    "hub_layer = HubLayer(embedding_model)(input_text)\n",
    "\n",
    "# Add Dense Layers\n",
    "hidden_layer = Dense(16, activation='relu')(hub_layer)\n",
    "output_layer = Dense(1, activation='sigmoid')(hidden_layer)  # Binary classification\n",
    "\n",
    "# Build the Model\n",
    "model = Model(inputs=input_text, outputs=output_layer)\n",
    "\n",
    "# Compile the Model\n",
    "model.compile(optimizer='adam',\n",
    "              loss='binary_crossentropy',\n",
    "              metrics=['accuracy'])\n",
    "\n",
    "# Display Summary\n",
    "model.summary()\n",
    "\n",
    "# Train the Model\n",
    "history = model.fit(train_data.batch(512),\n",
    "                    validation_data=validation_data.batch(512),\n",
    "                    epochs=10,\n",
    "                    verbose=1)\n",
    "\n",
    "# Evaluate the Model\n",
    "results = model.evaluate(test_data.batch(512), verbose=1)\n",
    "print(f\"Test Loss: {results[0]}\")\n",
    "print(f\"Test Accuracy: {results[1]}\")"
   ]
  },
  {
   "cell_type": "code",
   "execution_count": 22,
   "metadata": {},
   "outputs": [
    {
     "name": "stdout",
     "output_type": "stream",
     "text": [
      "TensorFlow version: 2.19.0\n",
      "TensorFlow Hub version: 0.16.1\n"
     ]
    }
   ],
   "source": [
    "import tensorflow as tf\n",
    "import tensorflow_hub as hub\n",
    "print(\"TensorFlow version:\", tf.__version__)\n",
    "print(\"TensorFlow Hub version:\", hub.__version__)"
   ]
  },
  {
   "cell_type": "code",
   "execution_count": 25,
   "metadata": {
    "colab": {
     "base_uri": "https://localhost:8080/",
     "height": 533
    },
    "id": "qM3iaDSTKFVp",
    "outputId": "ed2ca68c-6091-4584-f57d-09e6041e4ca8"
   },
   "outputs": [
    {
     "name": "stdout",
     "output_type": "stream",
     "text": [
      "You must install pydot (`pip install pydot`) for `plot_model` to work.\n"
     ]
    }
   ],
   "source": [
    "tf.keras.utils.plot_model(model, show_shapes=True)"
   ]
  },
  {
   "cell_type": "code",
   "execution_count": 27,
   "metadata": {
    "id": "c_h8GSENKNML"
   },
   "outputs": [],
   "source": [
    "model.compile(optimizer='adam',\n",
    "              loss='binary_crossentropy',\n",
    "              metrics=['accuracy'])"
   ]
  },
  {
   "cell_type": "code",
   "execution_count": null,
   "metadata": {
    "colab": {
     "base_uri": "https://localhost:8080/"
    },
    "id": "5LpT0jl-KWrA",
    "outputId": "cf2d747f-1b99-40c7-cd05-1c587a85e42c"
   },
   "outputs": [
    {
     "name": "stdout",
     "output_type": "stream",
     "text": [
      "Epoch 1/5\n",
      "30/30 [==============================] - 11s 214ms/step - loss: 0.7232 - accuracy: 0.6325 - val_loss: 0.5780 - val_accuracy: 0.7499\n",
      "Epoch 2/5\n",
      "30/30 [==============================] - 5s 169ms/step - loss: 0.4085 - accuracy: 0.8315 - val_loss: 0.4918 - val_accuracy: 0.8352\n",
      "Epoch 3/5\n",
      "30/30 [==============================] - 6s 196ms/step - loss: 0.2579 - accuracy: 0.9123 - val_loss: 0.3613 - val_accuracy: 0.8651\n",
      "Epoch 4/5\n",
      "30/30 [==============================] - 6s 190ms/step - loss: 0.1557 - accuracy: 0.9549 - val_loss: 0.4208 - val_accuracy: 0.8821\n",
      "Epoch 5/5\n",
      "30/30 [==============================] - 5s 147ms/step - loss: 0.0997 - accuracy: 0.9741 - val_loss: 0.4489 - val_accuracy: 0.8856\n"
     ]
    }
   ],
   "source": [
    "history = model.fit(train_data.shuffle(10000).batch(512),\n",
    "                    epochs=5,\n",
    "                    validation_data=validation_data.batch(512),\n",
    "                    verbose=1)"
   ]
  },
  {
   "cell_type": "code",
   "execution_count": 28,
   "metadata": {
    "colab": {
     "base_uri": "https://localhost:8080/"
    },
    "id": "Q9kE-07yKa-c",
    "outputId": "847ecb0d-b55b-44ca-8cf6-33f4492d0eb8"
   },
   "outputs": [
    {
     "name": "stdout",
     "output_type": "stream",
     "text": [
      "49/49 - 2s - 44ms/step - accuracy: 0.8035 - loss: 0.4362\n",
      "loss: 0.436\n",
      "compile_metrics: 0.803\n"
     ]
    }
   ],
   "source": [
    "results = model.evaluate(test_data.batch(512), verbose=2)\n",
    "\n",
    "for name, value in zip(model.metrics_names, results):\n",
    "  print(\"%s: %.3f\" % (name, value))"
   ]
  },
  {
   "cell_type": "code",
   "execution_count": 30,
   "metadata": {
    "colab": {
     "base_uri": "https://localhost:8080/",
     "height": 622
    },
    "id": "y1AmrpUjfscf",
    "outputId": "c1c35363-fba2-4a3c-e445-4692ebff8d09"
   },
   "outputs": [
    {
     "data": {
      "image/png": "[encoded data removed]",
      "text/plain": [
       "<Figure size 1000x700 with 1 Axes>"
      ]
     },
     "metadata": {},
     "output_type": "display_data"
    }
   ],
   "source": [
    "pd.DataFrame(history.history).plot(figsize=(10,7))\n",
    "plt.title(\"Metrics Graph\")\n",
    "plt.show()"
   ]
  },
  {
   "cell_type": "code",
   "execution_count": 34,
   "metadata": {
    "id": "Y7P9neZtnSsw"
   },
   "outputs": [
    {
     "name": "stdout",
     "output_type": "stream",
     "text": [
      "\u001b[1m782/782\u001b[0m \u001b[32m━━━━━━━━━━━━━━━━━━━━\u001b[0m\u001b[37m\u001b[0m \u001b[1m3s\u001b[0m 4ms/step\n",
      "[[0.65427154]\n",
      " [0.8688402 ]\n",
      " [0.48086572]\n",
      " ...\n",
      " [0.14798805]\n",
      " [0.82856834]\n",
      " [0.8277428 ]]\n"
     ]
    }
   ],
   "source": [
    "import tensorflow as tf\n",
    "\n",
    "# Convert texts to TensorFlow tensors\n",
    "texts_tensor = tf.convert_to_tensor(texts)\n",
    "\n",
    "# Use the model to predict probabilities\n",
    "predicted_probs = model.predict(texts_tensor)\n",
    "\n",
    "# Print predicted probabilities\n",
    "print(predicted_probs)"
   ]
  },
  {
   "cell_type": "code",
   "execution_count": 35,
   "metadata": {
    "id": "NxpkkePaobGk"
   },
   "outputs": [],
   "source": [
    "predicted_labels = (predicted_probs > 0.5).astype(int)"
   ]
  },
  {
   "cell_type": "code",
   "execution_count": 36,
   "metadata": {
    "colab": {
     "base_uri": "https://localhost:8080/"
    },
    "id": "Hb6lz-ijodjE",
    "outputId": "780e8a9d-e446-453b-dc6d-229c4776a191"
   },
   "outputs": [
    {
     "name": "stdout",
     "output_type": "stream",
     "text": [
      "              precision    recall  f1-score   support\n",
      "\n",
      "    Negative       0.79      0.82      0.81     12500\n",
      "    Positive       0.82      0.78      0.80     12500\n",
      "\n",
      "    accuracy                           0.80     25000\n",
      "   macro avg       0.80      0.80      0.80     25000\n",
      "weighted avg       0.80      0.80      0.80     25000\n",
      "\n"
     ]
    }
   ],
   "source": [
    "report = metrics.classification_report(true_labels, predicted_labels, target_names=['Negative', 'Positive'])\n",
    "print(report)"
   ]
  },
  {
   "cell_type": "code",
   "execution_count": 37,
   "metadata": {
    "colab": {
     "base_uri": "https://localhost:8080/",
     "height": 512
    },
    "id": "FRonrwfto_Y5",
    "outputId": "947ee4a8-567b-403a-c83e-bea52eb95e63"
   },
   "outputs": [
    {
     "data": {
      "image/png": "[encoded data removed]",
      "text/plain": [
       "<Figure size 640x480 with 1 Axes>"
      ]
     },
     "metadata": {},
     "output_type": "display_data"
    }
   ],
   "source": [
    "cm = metrics.confusion_matrix(true_labels, predicted_labels)\n",
    "plot_confusion_matrix(cm, class_names=['Negative', 'Positive'])\n",
    "plt.title(\"Confusion Matrix\")\n",
    "plt.show()"
   ]
  }
 ],
 "metadata": {
  "accelerator": "GPU",
  "colab": {
   "provenance": []
  },
  "kernelspec": {
   "display_name": "Python 3 (ipykernel)",
   "language": "python",
   "name": "python3"
  },
  "language_info": {
   "codemirror_mode": {
    "name": "ipython",
    "version": 3
   },
   "file_extension": ".py",
   "mimetype": "text/x-python",
   "name": "python",
   "nbconvert_exporter": "python",
   "pygments_lexer": "ipython3",
   "version": "3.11.9"
  }
 },
 "nbformat": 4,
 "nbformat_minor": 4
}
